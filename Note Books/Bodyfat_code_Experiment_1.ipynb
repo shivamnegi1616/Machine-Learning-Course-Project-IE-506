{
  "cells": [
    {
      "cell_type": "code",
      "execution_count": null,
      "metadata": {
        "execution": {
          "iopub.execute_input": "2024-03-15T14:25:16.204501Z",
          "iopub.status.busy": "2024-03-15T14:25:16.203963Z",
          "iopub.status.idle": "2024-03-15T14:25:16.212548Z",
          "shell.execute_reply": "2024-03-15T14:25:16.211519Z",
          "shell.execute_reply.started": "2024-03-15T14:25:16.204465Z"
        },
        "id": "tzRuutP9_oGI"
      },
      "outputs": [],
      "source": [
        "import numpy as np\n",
        "import pandas as pd\n",
        "from sklearn.neighbors import NearestNeighbors"
      ]
    },
    {
      "cell_type": "code",
      "execution_count": null,
      "metadata": {
        "id": "OA66vC8WOM8R",
        "outputId": "ecfdd32d-3b1d-4eda-ac94-05d4eb80e614"
      },
      "outputs": [],
      "source": [
        "df = pd.read_csv(\"bodyfat.csv\")         # Importing El- nino dataset\n",
        "df.head(50)"
      ]
    },
    {
      "cell_type": "code",
      "execution_count": null,
      "metadata": {
        "id": "vq0_0S6nOM8T",
        "outputId": "fed217c7-5de0-4fb1-bc35-2a5c5a996e16"
      },
      "outputs": [],
      "source": [
        "data = df.values\n",
        "data[:5,:]"
      ]
    },
    {
      "cell_type": "markdown",
      "metadata": {
        "id": "AVBpTjiuOM8U"
      },
      "source": [
        "$\\text{Define data augmentation function.}$"
      ]
    },
    {
      "cell_type": "code",
      "execution_count": null,
      "metadata": {
        "id": "5p66JF-tOM8Y"
      },
      "outputs": [],
      "source": [
        "def augment_data(original_data, num_samples=20000, num_neighbors=6):\n",
        "    augmented_data = []\n",
        "    nn = NearestNeighbors(n_neighbors=num_neighbors)\n",
        "    nn.fit(original_data)\n",
        "\n",
        "    for _ in range(num_samples):\n",
        "        # Randomly select a point from the original dataset\n",
        "        random_index = np.random.randint(0, len(original_data))\n",
        "        random_point = original_data[random_index]\n",
        "\n",
        "        # Find the indices of the nearest neighbors\n",
        "        d, indices = nn.kneighbors(random_point.reshape(1, -1))  # d is the distance between the random point and 5 niegh\n",
        "        neighbors = original_data[indices[0]]\n",
        "\n",
        "        # Average the values of the random point and its neighbors\n",
        "        new_point = np.mean(neighbors, axis=0)\n",
        "        augmented_data.append(new_point)\n",
        "\n",
        "    return np.array(augmented_data)"
      ]
    },
    {
      "cell_type": "code",
      "execution_count": null,
      "metadata": {
        "id": "IRrumB9_OM8Y",
        "outputId": "29741247-de70-4ee6-fd2a-d25c1647d8bd"
      },
      "outputs": [],
      "source": [
        "# Augment the data\n",
        "data = augment_data(data)\n",
        "\n",
        "# Now augmented_data contains the augmented dataset with 20,000 data points\n",
        "print(\"Shape of augmented data:\", data.shape)"
      ]
    },
    {
      "cell_type": "code",
      "execution_count": null,
      "metadata": {
        "id": "yVmeVjKdOM8Z",
        "outputId": "fc6382d5-9727-4e04-e410-5286dce8e7ff"
      },
      "outputs": [],
      "source": [
        "np.mean(data, axis = 0)"
      ]
    },
    {
      "cell_type": "code",
      "execution_count": null,
      "metadata": {
        "id": "9GxkIOssOM8a"
      },
      "outputs": [],
      "source": [
        "def making_matrix(data, size):\n",
        "    np.random.shuffle(data)\n",
        "\n",
        "    num_rows = data.shape[0]\n",
        "\n",
        "    # Randomly select 100 rows for s1\n",
        "    s1_indices = np.random.choice(num_rows, size=size, replace=False)\n",
        "    s1_matrix = data[s1_indices]\n",
        "\n",
        "    # Remove the selected rows from data to create s1_complement\n",
        "    s1_complement_matrix = np.delete(data, s1_indices, axis=0)\n",
        "\n",
        "    # Randomly select 100 rows from s1_complement for s2\n",
        "    s2_indices = np.random.choice(s1_complement_matrix.shape[0], size=size, replace=False)\n",
        "    s2_matrix = s1_complement_matrix[s2_indices]\n",
        "\n",
        "    # Remove the selected rows from data to create s1_complement\n",
        "    s2_complement_matrix = np.delete(s1_complement_matrix, s2_indices, axis=0)\n",
        "\n",
        "    # Randomly select 100 rows from s1_complement for s2\n",
        "    sprime_indices = np.random.choice(s2_complement_matrix.shape[0], size=size, replace=False)\n",
        "    sprime_matrix = s2_complement_matrix[sprime_indices]\n",
        "\n",
        "    return s1_matrix, s2_matrix, sprime_matrix"
      ]
    },
    {
      "cell_type": "code",
      "execution_count": null,
      "metadata": {
        "id": "yl8ivn6tOM8b",
        "outputId": "5f6cab92-a18f-4b13-83e4-867e12d4ae55"
      },
      "outputs": [],
      "source": [
        "a=np.array([[1,2,3],[4,5,6],[7,8,9]])\n",
        "b = np.delete(a,[1,2],axis=0)\n",
        "a"
      ]
    },
    {
      "cell_type": "code",
      "execution_count": null,
      "metadata": {
        "id": "HizuWs1IOM8c",
        "outputId": "2a2d58c5-41e6-4d38-be4f-68f6fde15bb5"
      },
      "outputs": [],
      "source": [
        "b"
      ]
    },
    {
      "cell_type": "code",
      "execution_count": null,
      "metadata": {
        "id": "O7L0ql89OM8e",
        "outputId": "ee908a6b-9e83-43d9-e40e-685be06d5dc3"
      },
      "outputs": [],
      "source": [
        "s1_matrix , s2_matrix, sprime_matrix = making_matrix(data, 100)\n",
        "\n",
        "print(s1_matrix.shape)\n",
        "print(s2_matrix.shape)\n",
        "print(sprime_matrix.shape)\n",
        "\n",
        "len_s1= s1_matrix.shape[0]\n",
        "len_s2= s2_matrix.shape[0]\n",
        "len_sprime = sprime_matrix.shape[0]\n",
        "\n",
        "len_s1, len_s2, len_sprime"
      ]
    },
    {
      "cell_type": "code",
      "execution_count": null,
      "metadata": {
        "id": "mkwS_BRJOM8f",
        "outputId": "38107d42-366a-4853-e9ee-3cd43523cbfd"
      },
      "outputs": [],
      "source": [
        "s1_matrix"
      ]
    },
    {
      "cell_type": "code",
      "execution_count": null,
      "metadata": {
        "id": "0LW-80RhOM8f",
        "outputId": "a2c2475b-afa6-4deb-833d-89ace5dbb3de"
      },
      "outputs": [],
      "source": [
        "s2_matrix"
      ]
    },
    {
      "cell_type": "code",
      "execution_count": null,
      "metadata": {
        "id": "_LLEa3gTOM8g",
        "outputId": "5fada123-2129-4893-8750-1b2a0393bfc8"
      },
      "outputs": [],
      "source": [
        "sprime_matrix"
      ]
    },
    {
      "cell_type": "markdown",
      "metadata": {
        "id": "EAO-Vvk6_oGR"
      },
      "source": [
        "$\\Huge{\\text{Required Fuctions for Alogorithm}}$"
      ]
    },
    {
      "cell_type": "markdown",
      "metadata": {
        "id": "WWfZSn2WOM8h"
      },
      "source": [
        "# $ \\textbf{Equation 5:} \\\\\n",
        "\\left\\{\\begin{array}{l}\n",
        "p\\left(x_{j} \\mid \\omega_{i}\\right)=\\frac{1}{(2 \\pi)^{k / 2}\\left|\\Sigma_{x_{i}}\\right|^{1 / 2}} \\exp \\left(-\\frac{1}{2}\\left(x_{j}-x_{i}\\right)^{T} \\Sigma_{x_{i}}^{-1}\\left(x_{j}-x_{i}\\right)\\right) \\\\\n",
        "p\\left(x_{i} \\mid \\omega_{i}\\right)=0, \\quad i, j=1,2, \\ldots\\left|S_{1}\\right|, i \\neq j \\\\\n",
        "\\quad i=1,2, \\ldots\\left|S_{1}\\right|\n",
        "\\end{array}\\right.\n",
        "$"
      ]
    },
    {
      "cell_type": "code",
      "execution_count": null,
      "metadata": {
        "execution": {
          "iopub.execute_input": "2024-03-15T14:25:16.646880Z",
          "iopub.status.busy": "2024-03-15T14:25:16.646424Z",
          "iopub.status.idle": "2024-03-15T14:25:16.656793Z",
          "shell.execute_reply": "2024-03-15T14:25:16.655609Z",
          "shell.execute_reply.started": "2024-03-15T14:25:16.646841Z"
        },
        "id": "UK_BvPeJ_oGT"
      },
      "outputs": [],
      "source": [
        "dim = 15        # Dimensionality of s1\n",
        "\n",
        "def small_p(xi, xj, cov):\n",
        "\n",
        "    cov_1 = cov\n",
        "\n",
        "    det_cov = np.linalg.det(cov)\n",
        "    epsilon = 1e-5\n",
        "    det_cov = max(det_cov, epsilon)\n",
        "\n",
        "    if det_cov <= 0.01:\n",
        "        alpha = 1e-5\n",
        "        cov_1 = cov_1 + alpha * np.identity(dim)\n",
        "\n",
        "    a = 1 / (((2 * np.pi) ** (dim / 2)) * det_cov ** 0.5)\n",
        "    b = -0.5 * ((xj - xi).T @ np.linalg.inv(cov_1) @ (xj - xi))\n",
        "\n",
        "    # if b < 0:\n",
        "    #     print('b value', b)\n",
        "    b = max(b, -4)\n",
        "    p = a * np.exp(b)\n",
        "\n",
        "    return p"
      ]
    },
    {
      "cell_type": "markdown",
      "metadata": {
        "id": "FSFkQxAn_oGU"
      },
      "source": [
        "# $ \\textbf{Equation 4:} \\\\\n",
        "\\begin{cases}P\\left(\\omega_{i} \\mid x_{j}\\right)=\\frac{p\\left(x_{j} \\mid \\omega_{i}\\right)}{\\sum_{t=1}^{\\left|S_{1}\\right|} p\\left(x_{j} \\mid \\omega_{t}\\right)} & i, j=1,2, \\ldots\\left|S_{1}\\right|, i \\neq j \\\\ P\\left(\\omega_{i} \\mid x_{i}\\right)=0 & i=1,2, \\ldots\\left|S_{1}\\right|\\end{cases}\n",
        "$"
      ]
    },
    {
      "cell_type": "code",
      "execution_count": null,
      "metadata": {
        "execution": {
          "iopub.execute_input": "2024-03-15T14:25:16.658927Z",
          "iopub.status.busy": "2024-03-15T14:25:16.658141Z",
          "iopub.status.idle": "2024-03-15T14:25:16.667678Z",
          "shell.execute_reply": "2024-03-15T14:25:16.666817Z",
          "shell.execute_reply.started": "2024-03-15T14:25:16.658892Z"
        },
        "id": "fXKrXZBN_oGU"
      },
      "outputs": [],
      "source": [
        "def capital_p(i, j, cov_mat):\n",
        "    summation = 0\n",
        "    xi = s1_matrix[i, :].reshape(-1, 1)\n",
        "    xj = s1_matrix[j, :].reshape(-1, 1)\n",
        "\n",
        "    for k in range(len_s1):\n",
        "        if k != j:\n",
        "            xk = s1_matrix[k, :].reshape(-1, 1)\n",
        "            summation += small_p(xk,xj, cov_mat[k])\n",
        "\n",
        "    # Avoid division by zero\n",
        "    summation = np.clip(summation,1e-4,np.inf)\n",
        "    P = small_p(xi,xj,cov_mat[i]) / summation\n",
        "\n",
        "    return  P"
      ]
    },
    {
      "cell_type": "markdown",
      "metadata": {
        "id": "OOye7w4SOM8i"
      },
      "source": [
        "# $ \\textbf{Equation 3:} \\\\\n",
        "\\Sigma_{x_{i}}=\\frac{\\sum_{x_{j} \\in S_{1}} P\\left(\\omega_{i} \\mid x_{j}\\right)\\left(x_{j}-x_{i}\\right)\\left(x_{j}-x_{i}\\right)^{T}}{\\sum_{x_{j} \\in S_{1}} P\\left(\\omega_{i} \\mid x_{j}\\right)}\n",
        "$"
      ]
    },
    {
      "cell_type": "code",
      "execution_count": null,
      "metadata": {
        "execution": {
          "iopub.execute_input": "2024-03-15T14:25:16.671719Z",
          "iopub.status.busy": "2024-03-15T14:25:16.671053Z",
          "iopub.status.idle": "2024-03-15T14:25:16.680958Z",
          "shell.execute_reply": "2024-03-15T14:25:16.679829Z",
          "shell.execute_reply.started": "2024-03-15T14:25:16.671684Z"
        },
        "id": "I2ksY54O_oGU"
      },
      "outputs": [],
      "source": [
        "def cov_xi(i,cov_mat):\n",
        "    denominator = 0\n",
        "    numerator = 0\n",
        "\n",
        "    xi = s1_matrix[i, :].reshape(-1, 1)\n",
        "    for j in range(len_s1):\n",
        "        if i!=j:\n",
        "            xj = s1_matrix[j, :].reshape(-1, 1)\n",
        "\n",
        "            P = capital_p(i, j, cov_mat)\n",
        "\n",
        "            denominator += P\n",
        "            numerator += P * ((xj - xi) @ (xj - xi).T)\n",
        "\n",
        "    return numerator / denominator"
      ]
    },
    {
      "cell_type": "markdown",
      "metadata": {
        "id": "r9EM5dNOOM8j"
      },
      "source": [
        "# $ \\text{Equation 2:}$\n",
        "$ \\ L=\\sum_{x_{j} \\in S_{1}} \\log \\left[\\sum_{x_{i} \\in S_{1} \\wedge i \\neq j} \\frac{1}{\\left|S_{1}\\right|-1} G\\left(\\Sigma_{x_{i}}, x_{j}-x_{i}\\right)\\right]\n",
        "$"
      ]
    },
    {
      "cell_type": "code",
      "execution_count": null,
      "metadata": {
        "id": "MPQaY-_y_oGV"
      },
      "outputs": [],
      "source": [
        "def L(cov_mat):\n",
        "    L_new = 0\n",
        "    for j in range(len_s1):\n",
        "        xj = s1_matrix[j, :].reshape(-1, 1)\n",
        "        summation = 0\n",
        "        for i in range(len_s1):\n",
        "            if i!=j:\n",
        "                xi = s1_matrix[i, :].reshape(-1, 1)\n",
        "                summation+=small_p(xi,xj,cov_mat[i])\n",
        "\n",
        "        # summation = np.clip(summation,1e-5,np.inf)\n",
        "        summation=summation/(len_s1-1)\n",
        "        L_new+=np.log(summation)\n",
        "\n",
        "    return L_new[0][0]"
      ]
    },
    {
      "cell_type": "markdown",
      "metadata": {
        "id": "2uOxYje3OM8j"
      },
      "source": [
        "$\\Huge{\\text{Alogorithm 1}}$"
      ]
    },
    {
      "cell_type": "code",
      "execution_count": null,
      "metadata": {
        "id": "-xJfXtha_oGW"
      },
      "outputs": [],
      "source": [
        "def Algorithm1(cov_mat):\n",
        "    t = 0\n",
        "    phi = 0.01\n",
        "    L_prev = 1\n",
        "\n",
        "    while t < 100:\n",
        "\n",
        "        temp = []\n",
        "\n",
        "        for i in range(len_s1):\n",
        "            temp.append(cov_xi(i,cov_mat))\n",
        "\n",
        "        cov_mat = temp.copy()\n",
        "\n",
        "        for i in range(len_s1):\n",
        "            if np.linalg.det(cov_mat[i]) <= 0:\n",
        "                alpha = 1\n",
        "                cov_mat[i] = cov_mat[i] + alpha * np.identity(dim)\n",
        "\n",
        "        L_new = L(cov_mat)\n",
        "\n",
        "        print(((L_new-L_prev)/L_prev))\n",
        "        print('L_prev=',L_prev)\n",
        "        print('L_new=',L_new)\n",
        "        print('t=',t)\n",
        "        print('-'*50)\n",
        "\n",
        "        if abs((L_new-L_prev)/L_prev) < phi:\n",
        "            break\n",
        "\n",
        "        else:\n",
        "            L_prev=L_new\n",
        "            t+=1\n",
        "\n",
        "    return cov_mat"
      ]
    },
    {
      "cell_type": "code",
      "execution_count": null,
      "metadata": {
        "id": "D0tAhNMu_oGS"
      },
      "outputs": [],
      "source": [
        "#initial guess\n",
        "cov_mat_initial=[]\n",
        "for i in range(len_s1):\n",
        "    xi = s1_matrix[i, :].reshape(-1, 1)\n",
        "    mat=0\n",
        "    for j in range(len_s1):\n",
        "        xj = s1_matrix[j, :].reshape(-1, 1)\n",
        "        mat+=(xj-xi)@(xj-xi).T\n",
        "    cov_mat_initial.append(mat/(len_s1-1))"
      ]
    },
    {
      "cell_type": "code",
      "execution_count": null,
      "metadata": {
        "id": "HmTSQBI4OM8k",
        "outputId": "d4bfecf5-8517-4da2-f240-78024953e628"
      },
      "outputs": [],
      "source": [
        "cov_mat_initial[0].shape"
      ]
    },
    {
      "cell_type": "code",
      "execution_count": null,
      "metadata": {
        "id": "Gf54cI5vOM8k",
        "outputId": "80afdd02-44da-4d17-9962-c5d46e3b165c"
      },
      "outputs": [],
      "source": [
        "cov_mat= Algorithm1(cov_mat_initial)"
      ]
    },
    {
      "cell_type": "code",
      "execution_count": null,
      "metadata": {
        "id": "3VUHsqS-_oGX",
        "outputId": "939ad6b0-5e12-437b-8dad-392e10cda0c3"
      },
      "outputs": [],
      "source": [
        "cov_mat"
      ]
    },
    {
      "cell_type": "markdown",
      "metadata": {
        "id": "XBdg0RgAOM8k"
      },
      "source": [
        "$\\Huge{\\text{Alogorithm 2}}$"
      ]
    },
    {
      "cell_type": "code",
      "execution_count": null,
      "metadata": {
        "id": "L0Dv4CLo_oGX"
      },
      "outputs": [],
      "source": [
        "def F(T):\n",
        "    s = 0\n",
        "    for i in range(len_s1):\n",
        "        xi = s1_matrix[i, :].reshape(-1, 1)\n",
        "        s += small_p(xi,T,cov_mat[i])\n",
        "    f = np.log(s/len_s1)\n",
        "    return f\n",
        "\n",
        "def EstVar(estsize,beta):\n",
        "    Est = []\n",
        "    for t in range(1,estsize):\n",
        "        np.random.seed(42)  # Setting the random seed for reproducibility\n",
        "        R_indices = np.random.choice(s2_matrix.shape[0], size=len(s2_matrix), replace=True)\n",
        "        R = s2_matrix[R_indices]\n",
        "        F_R = []\n",
        "        for i in range(len_s2):\n",
        "            T = R[i, :].reshape(-1, 1)\n",
        "            F_R.append(F(T))\n",
        "\n",
        "        var_F_R = np.var(np.array(F_R))\n",
        "        Est.append((len_s2/(len_s2-1))*var_F_R)\n",
        "\n",
        "    V =  np.percentile(Est, estsize*(1 - beta))\n",
        "    var_delta = (len_sprime + ((len_sprime**2) / len_s2))*V\n",
        "    return var_delta"
      ]
    },
    {
      "cell_type": "markdown",
      "metadata": {
        "id": "bZF2kXRaOM8l"
      },
      "source": [
        "$\\Huge{\\text{Alogorithm 3}}$"
      ]
    },
    {
      "cell_type": "code",
      "execution_count": null,
      "metadata": {
        "id": "puCeRyKO_oGX"
      },
      "outputs": [],
      "source": [
        "from scipy.stats import norm\n",
        "\n",
        "def critical_value(p,stepsize):\n",
        "    estsize = 100\n",
        "    M = int(np.ceil((p/stepsize)-1))\n",
        "    C = []\n",
        "    for i in range(1, M+1):\n",
        "        print('step number:',i,'/',M+1)\n",
        "        alpha_i = i*stepsize\n",
        "        beta_i = p-alpha_i\n",
        "        var_delta = EstVar(estsize,beta_i)\n",
        "\n",
        "        mean = 0\n",
        "\n",
        "        std_dev = np.sqrt(var_delta)\n",
        "        c = norm.ppf(alpha_i, loc = mean, scale = std_dev)\n",
        "        C.append(c)\n",
        "\n",
        "    C_max = max(C)\n",
        "    print('C_max', C_max)\n",
        "\n",
        "    return C_max"
      ]
    },
    {
      "cell_type": "markdown",
      "metadata": {
        "id": "62Z6Ns4COM8m"
      },
      "source": [
        "# $\\textbf{Equation 7:}$\n",
        " $\n",
        "\\begin{aligned}\n",
        "\\delta= & \\operatorname{LLH}\\left(\\mathscr{K}_{S_{1}}, S^{\\prime}\\right)-\\frac{\\left|S^{\\prime}\\right|}{\\left|S_{2}\\right|} \\times \\operatorname{LLH}\\left(\\mathscr{K}_{S_{1}}, S_{2}\\right) \\\\\n",
        "= & \\log \\left\\{\\prod_{y \\in S^{\\prime}} \\mathscr{K}_{S_{1}}(y)\\right\\}-\\frac{\\left|S^{\\prime}\\right|}{\\left|S_{2}\\right|} \\times \\log \\left\\{\\prod_{y \\in S_{2}} \\mathscr{K}_{S_{1}}(y)\\right\\} \\\\\n",
        "= & \\sum_{y \\in S^{\\prime}} \\log \\sum_{x \\in S_{1}} \\frac{1}{\\left|S_{1}\\right|} G\\left(\\Sigma_{x}, y-x\\right) \\\\\n",
        "& -\\sum_{y \\in S_{2}} \\frac{\\left|S^{\\prime}\\right|}{\\left|S_{2}\\right|} \\times \\log \\left\\{\\sum_{x \\in S_{1}} \\frac{1}{\\left|S_{1}\\right|} G\\left(\\Sigma_{x}, y-x\\right)\\right\\}\n",
        "\\end{aligned}\n",
        "$"
      ]
    },
    {
      "cell_type": "code",
      "execution_count": null,
      "metadata": {
        "id": "EYzdCiCW_oGY"
      },
      "outputs": [],
      "source": [
        "def delta(sprime_matrix):\n",
        "\n",
        "    a = 0\n",
        "\n",
        "    for j in range(len_sprime):\n",
        "        y = sprime_matrix[j, :].reshape(-1, 1)\n",
        "        summation = 0\n",
        "\n",
        "        for i in range(len_s1):\n",
        "            x = s1_matrix[i, :].reshape(-1, 1)\n",
        "            summation += small_p(x,y,cov_mat[i])\n",
        "\n",
        "        summation=np.clip(summation,1e-4,np.inf)\n",
        "        a += np.log(summation/len_s1)\n",
        "\n",
        "    b = 0\n",
        "\n",
        "    for j in range(len_s2):\n",
        "        y = s2_matrix[j, :].reshape(-1, 1)\n",
        "        summation = 0\n",
        "\n",
        "        for i in range(len_s1):\n",
        "            x = s1_matrix[i, :].reshape(-1, 1)\n",
        "            summation += small_p(x,y,cov_mat[i])\n",
        "\n",
        "        b += np.log(summation/len_s1)\n",
        "\n",
        "    b = b*len_sprime/len_s2\n",
        "\n",
        "    delta = a - b\n",
        "    print('delta', delta)\n",
        "\n",
        "    return delta"
      ]
    },
    {
      "cell_type": "code",
      "execution_count": null,
      "metadata": {
        "id": "bSuew7YR_oGY",
        "outputId": "1f2f58ad-c663-4ef1-ca95-ddd77a8a467e"
      },
      "outputs": [],
      "source": [
        "sprime_matrix.shape"
      ]
    },
    {
      "cell_type": "markdown",
      "metadata": {
        "id": "pmc3nOJ3OM8n"
      },
      "source": [
        "$\\Huge{\\text{Change Detection Decision}}$"
      ]
    },
    {
      "cell_type": "code",
      "execution_count": null,
      "metadata": {
        "id": "h4Q3xEjX_oGZ",
        "outputId": "b271989d-9948-43c5-c999-0c68dd456fb6"
      },
      "outputs": [],
      "source": [
        "p = 0.08\n",
        "stepsize = 0.002\n",
        "\n",
        "Delta = delta()\n",
        "\n",
        "C_max = critical_value(p, stepsize)\n",
        "\n",
        "if Delta < C_max:\n",
        "    print('THERE IS CHANGE. DISTRIBUTION OF S PRIME IS DIFFERENT THAN DISTRIBUTION OF S ')\n",
        "\n",
        "else:\n",
        "    print('THERE IS NO CHANGE. DISTRIBUTION OF S PRIME IS SAME AS DISTRIBUTION OF S ')"
      ]
    },
    {
      "cell_type": "markdown",
      "metadata": {
        "id": "SHu1km1xOM8o"
      },
      "source": [
        "$\\Huge{\\text{Making a Hypothetical Data to Check Algorithm}}$"
      ]
    },
    {
      "cell_type": "code",
      "execution_count": null,
      "metadata": {
        "id": "Ts-JAf1HOM8o",
        "outputId": "cb58abbc-b8bb-47c2-f07d-e44adba7082e"
      },
      "outputs": [],
      "source": [
        "len_sprime"
      ]
    },
    {
      "cell_type": "code",
      "execution_count": null,
      "metadata": {
        "id": "V9he9UluOM8o",
        "outputId": "555ab2b1-63e7-41d9-fadd-b49c44cf319b"
      },
      "outputs": [],
      "source": [
        "sprime_matrix"
      ]
    },
    {
      "cell_type": "code",
      "execution_count": null,
      "metadata": {
        "id": "jkL_ZLmd_oGa"
      },
      "outputs": [],
      "source": [
        "A = sprime_matrix.copy()\n",
        "\n",
        "for j in range(dim):\n",
        "    for i in range(len_sprime):\n",
        "\n",
        "        min_values = 4*np.min(sprime_matrix, axis=0)[j]\n",
        "        max_values = 2*np.max(sprime_matrix, axis=0)[j]\n",
        "        A[i,j]=np.random.uniform(min_values,max_values)\n",
        "\n",
        "\n",
        "sprime_matrix = A.copy()"
      ]
    },
    {
      "cell_type": "code",
      "execution_count": null,
      "metadata": {
        "id": "rtgmRTw6OM8p",
        "outputId": "a97d2398-ccce-4b14-c1f3-bb89478107d7"
      },
      "outputs": [],
      "source": [
        "sprime_matrix.shape"
      ]
    },
    {
      "cell_type": "code",
      "execution_count": null,
      "metadata": {
        "id": "T4aY27DAOM8p",
        "outputId": "91e143f9-de08-410a-93f6-9b31d0655011"
      },
      "outputs": [],
      "source": [
        "sprime_matrix"
      ]
    },
    {
      "cell_type": "markdown",
      "metadata": {
        "id": "bELUG28vOM8p"
      },
      "source": [
        "$\\Huge{\\text{Change Detection for Hypothetical Data}}$ \\\\\n",
        "$\\text{}$"
      ]
    },
    {
      "cell_type": "code",
      "execution_count": null,
      "metadata": {
        "id": "PmtDE46POM8q",
        "outputId": "73ea7074-432a-48b1-9c62-c6eb19dba32a"
      },
      "outputs": [],
      "source": [
        "#Change detection\n",
        "p=0.08\n",
        "stepsize=0.002\n",
        "\n",
        "Delta = delta(sprime_matrix)\n",
        "C_max= critical_value(p,stepsize)\n",
        "\n",
        "if Delta<C_max:\n",
        "    print('THERE IS CHANGE. DISTRIBUTION OF S PRIME IS DIFFERENT THAN DISTRIBUTION OF S ')\n",
        "\n",
        "else:\n",
        "    print('THERE IS NO CHANGE. DISTRIBUTION OF S PRIME IS SAME AS DISTRIBUTION OF S ')"
      ]
    },
    {
      "cell_type": "markdown",
      "metadata": {
        "id": "d6kJ3FoTOM8q"
      },
      "source": [
        "$\\Huge{\\text{Two way test}}$\n",
        "$\\text{}$"
      ]
    },
    {
      "cell_type": "code",
      "execution_count": null,
      "metadata": {
        "id": "bidWI_qvOM8q",
        "outputId": "14e52ea5-f152-4948-8b20-b4e70c9c2013"
      },
      "outputs": [],
      "source": [
        "s1_matrix , s2_matrix, sprime_matrix = making_matrix(data, 100)\n",
        "\n",
        "S = sprime_matrix.copy()\n",
        "\n",
        "sprime_matrix = np.concatenate((s1_matrix, s2_matrix), axis=0)\n",
        "\n",
        "\n",
        "# Shuffle the indices of the matrix\n",
        "indices = np.random.permutation(S.shape[0])\n",
        "\n",
        "# Divide the shuffled indices into two equal parts\n",
        "split_index = len(indices) // 2\n",
        "indices_1 = indices[:split_index]\n",
        "indices_2 = indices[split_index:]\n",
        "\n",
        "# Create two matrices using the selected indices\n",
        "s1_matrix = S[indices_1]\n",
        "s2_matrix = S[indices_2]\n",
        "\n",
        "\n",
        "print(s1_matrix.shape)\n",
        "print(s2_matrix.shape)\n",
        "print(sprime_matrix.shape)\n",
        "\n",
        "len_s1= s1_matrix.shape[0]\n",
        "len_s2= s2_matrix.shape[0]\n",
        "len_sprime = sprime_matrix.shape[0]\n",
        "\n",
        "len_s1, len_s2, len_sprime"
      ]
    },
    {
      "cell_type": "code",
      "execution_count": null,
      "metadata": {
        "id": "PYaccIWWOM8q"
      },
      "outputs": [],
      "source": [
        "#initial guess\n",
        "cov_mat_initial=[]\n",
        "for i in range(len_s1):\n",
        "    xi = s1_matrix[i, :].reshape(-1, 1)\n",
        "    mat=0\n",
        "    for j in range(len_s1):\n",
        "        xj = s1_matrix[j, :].reshape(-1, 1)\n",
        "        mat+=(xj-xi)@(xj-xi).T\n",
        "    cov_mat_initial.append(mat/(len_s1-1))"
      ]
    },
    {
      "cell_type": "code",
      "execution_count": null,
      "metadata": {
        "id": "it0dGY5COM8q",
        "outputId": "20fdd9ad-3d29-4aa6-844f-433dc8e9dc9e"
      },
      "outputs": [],
      "source": [
        "#ALGORITHM 1\n",
        "\n",
        "cov_mat=Algorithm1(cov_mat_initial)\n"
      ]
    },
    {
      "cell_type": "code",
      "execution_count": null,
      "metadata": {
        "id": "kZHbNSEdOM8q",
        "outputId": "98bd0346-d1c0-4ad3-c9d9-9984b8bf823b"
      },
      "outputs": [],
      "source": [
        "cov_mat"
      ]
    },
    {
      "cell_type": "code",
      "execution_count": null,
      "metadata": {
        "id": "ldXuaiQtOM8r",
        "outputId": "c8b81751-4dcc-483d-b516-40b0e17c1c07"
      },
      "outputs": [],
      "source": [
        "#Change detection\n",
        "p=0.08/2\n",
        "stepsize=0.002\n",
        "\n",
        "Delta = delta()\n",
        "C_max= critical_value(p,stepsize)\n",
        "\n",
        "if Delta<C_max:\n",
        "    print('THERE IS CHANGE. DISTRIBUTION OF S PRIME IS DIFFERENT THAN DISTRIBUTION OF S ')\n",
        "\n",
        "else:\n",
        "    print('THERE IS NO CHANGE. DISTRIBUTION OF S PRIME IS SAME AS DISTRIBUTION OF S ')"
      ]
    },
    {
      "cell_type": "markdown",
      "metadata": {
        "id": "_nMGyQnuOM8r"
      },
      "source": [
        "$\\Huge{\\text{Experiment 1}}$\n",
        "$\\text{}$"
      ]
    },
    {
      "cell_type": "code",
      "execution_count": null,
      "metadata": {
        "id": "_1OKDC0QOM8r",
        "outputId": "b584bdc2-ed7d-4236-b35f-34aba2aefa2a",
        "scrolled": true
      },
      "outputs": [],
      "source": [
        "fp=0\n",
        "\n",
        "for i in range(20):\n",
        "    print('itr=',i)\n",
        "    s1_matrix , s2_matrix, sprime_matrix = making_matrix(data, 100)\n",
        "\n",
        "    len_s1 = s1_matrix.shape[0]\n",
        "    len_s2 = s2_matrix.shape[0]\n",
        "    len_sprime = sprime_matrix.shape[0]\n",
        "\n",
        "    #initial guess\n",
        "    cov_mat_initial = []\n",
        "    for i in range(len_s1):\n",
        "        xi = s1_matrix[i, :].reshape(-1, 1)\n",
        "        mat = 0\n",
        "        for j in range(len_s1):\n",
        "            xj = s1_matrix[j, :].reshape(-1, 1)\n",
        "            mat += (xj-xi)@(xj-xi).T\n",
        "        cov_mat_initial.append(mat/(len_s1-1))\n",
        "\n",
        "    cov_mat = Algorithm1(cov_mat_initial)\n",
        "\n",
        "    #Change detection\n",
        "    p = 0.08/2\n",
        "    stepsize = 0.002\n",
        "\n",
        "    Delta = delta()\n",
        "    C_max = critical_value(p,stepsize)\n",
        "\n",
        "    if Delta < C_max:\n",
        "        fp += 1\n",
        "        print('THERE IS CHANGE. DISTRIBUTION OF S PRIME IS DIFFERENT THAN DISTRIBUTION OF S ')\n",
        "\n",
        "    else:\n",
        "        print('THERE IS NO CHANGE. DISTRIBUTION OF S PRIME IS SAME AS DISTRIBUTION OF S ')\n",
        "\n",
        "        s1_matrix , s2_matrix, sprime_matrix = making_matrix(data, 100)\n",
        "\n",
        "        S = sprime_matrix.copy()\n",
        "\n",
        "        sprime_matrix = np.concatenate((s1_matrix, s2_matrix), axis=0)\n",
        "\n",
        "\n",
        "        # Shuffle the indices of the matrix\n",
        "        indices = np.random.permutation(S.shape[0])\n",
        "\n",
        "        # Divide the shuffled indices into two equal parts\n",
        "        split_index = len(indices) // 2\n",
        "        indices_1 = indices[:split_index]\n",
        "        indices_2 = indices[split_index:]\n",
        "\n",
        "        # Create two matrices using the selected indices\n",
        "        s1_matrix = S[indices_1]\n",
        "        s2_matrix = S[indices_2]\n",
        "\n",
        "        len_s1= s1_matrix.shape[0]\n",
        "        len_s2= s2_matrix.shape[0]\n",
        "        len_sprime = sprime_matrix.shape[0]\n",
        "\n",
        "        #initial guess\n",
        "        cov_mat_initial=[]\n",
        "        for i in range(len_s1):\n",
        "            xi = s1_matrix[i, :].reshape(-1, 1)\n",
        "            mat=0\n",
        "            for j in range(len_s1):\n",
        "                xj = s1_matrix[j, :].reshape(-1, 1)\n",
        "                mat+=(xj-xi)@(xj-xi).T\n",
        "            cov_mat_initial.append(mat/(len_s1-1))\n",
        "\n",
        "        cov_mat = Algorithm1(cov_mat_initial)\n",
        "\n",
        "        #Change detection\n",
        "\n",
        "        p=0.08/2\n",
        "        stepsize=0.002\n",
        "\n",
        "        Delta = delta()\n",
        "        C_max= critical_value(p,stepsize)\n",
        "\n",
        "        if Delta<C_max:\n",
        "            fp+=1\n",
        "            print('THERE IS CHANGE. DISTRIBUTION OF S PRIME IS DIFFERENT THAN DISTRIBUTION OF S')\n",
        "\n",
        "        print('fp:',fp)\n",
        "        print('')\n",
        "\n",
        "print('FALSE POSITIVE RATE:', fp/20)"
      ]
    }
  ],
  "metadata": {
    "colab": {
      "provenance": []
    },
    "kaggle": {
      "accelerator": "none",
      "dataSources": [
        {
          "datasetId": 4602382,
          "sourceId": 7848655,
          "sourceType": "datasetVersion"
        }
      ],
      "dockerImageVersionId": 30664,
      "isGpuEnabled": false,
      "isInternetEnabled": false,
      "language": "python",
      "sourceType": "notebook"
    },
    "kernelspec": {
      "display_name": "Python 3",
      "language": "python",
      "name": "python3"
    },
    "language_info": {
      "codemirror_mode": {
        "name": "ipython",
        "version": 3
      },
      "file_extension": ".py",
      "mimetype": "text/x-python",
      "name": "python",
      "nbconvert_exporter": "python",
      "pygments_lexer": "ipython3",
      "version": "3.12.3"
    }
  },
  "nbformat": 4,
  "nbformat_minor": 0
}

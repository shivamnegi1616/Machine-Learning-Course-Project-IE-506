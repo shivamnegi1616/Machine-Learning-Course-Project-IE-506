{
  "cells": [
    {
      "cell_type": "code",
      "execution_count": null,
      "metadata": {
        "execution": {
          "iopub.execute_input": "2024-03-15T14:25:16.204501Z",
          "iopub.status.busy": "2024-03-15T14:25:16.203963Z",
          "iopub.status.idle": "2024-03-15T14:25:16.212548Z",
          "shell.execute_reply": "2024-03-15T14:25:16.211519Z",
          "shell.execute_reply.started": "2024-03-15T14:25:16.204465Z"
        },
        "id": "tzRuutP9_oGI"
      },
      "outputs": [],
      "source": [
        "import numpy as np\n",
        "import pandas as pd"
      ]
    },
    {
      "cell_type": "code",
      "execution_count": null,
      "metadata": {
        "execution": {
          "iopub.execute_input": "2024-03-15T14:25:16.214526Z",
          "iopub.status.busy": "2024-03-15T14:25:16.213967Z",
          "iopub.status.idle": "2024-03-15T14:25:16.535883Z",
          "shell.execute_reply": "2024-03-15T14:25:16.534719Z",
          "shell.execute_reply.started": "2024-03-15T14:25:16.214496Z"
        },
        "id": "b_xOoPQP_oGM",
        "outputId": "728c57bf-f7e4-44aa-8f59-a4808979e2b2",
        "scrolled": true
      },
      "outputs": [
        {
          "data": {
            "text/html": [
              "<div>\n",
              "<style scoped>\n",
              "    .dataframe tbody tr th:only-of-type {\n",
              "        vertical-align: middle;\n",
              "    }\n",
              "\n",
              "    .dataframe tbody tr th {\n",
              "        vertical-align: top;\n",
              "    }\n",
              "\n",
              "    .dataframe thead th {\n",
              "        text-align: right;\n",
              "    }\n",
              "</style>\n",
              "<table border=\"1\" class=\"dataframe\">\n",
              "  <thead>\n",
              "    <tr style=\"text-align: right;\">\n",
              "      <th></th>\n",
              "      <th>Observation</th>\n",
              "      <th>Year</th>\n",
              "      <th>Month</th>\n",
              "      <th>Day</th>\n",
              "      <th>Date</th>\n",
              "      <th>Latitude</th>\n",
              "      <th>Longitude</th>\n",
              "      <th>Zonal Winds</th>\n",
              "      <th>Meridional Winds</th>\n",
              "      <th>Humidity</th>\n",
              "      <th>Air Temp</th>\n",
              "      <th>Sea Surface Temp</th>\n",
              "    </tr>\n",
              "  </thead>\n",
              "  <tbody>\n",
              "    <tr>\n",
              "      <th>0</th>\n",
              "      <td>4060</td>\n",
              "      <td>93</td>\n",
              "      <td>5</td>\n",
              "      <td>9</td>\n",
              "      <td>930509</td>\n",
              "      <td>-0.02</td>\n",
              "      <td>-109.96</td>\n",
              "      <td>-2.1</td>\n",
              "      <td>2.1</td>\n",
              "      <td>81.2</td>\n",
              "      <td>26.80</td>\n",
              "      <td>27.02</td>\n",
              "    </tr>\n",
              "    <tr>\n",
              "      <th>1</th>\n",
              "      <td>4061</td>\n",
              "      <td>93</td>\n",
              "      <td>5</td>\n",
              "      <td>10</td>\n",
              "      <td>930510</td>\n",
              "      <td>-0.02</td>\n",
              "      <td>-109.96</td>\n",
              "      <td>-3.4</td>\n",
              "      <td>1.4</td>\n",
              "      <td>84.2</td>\n",
              "      <td>26.95</td>\n",
              "      <td>26.91</td>\n",
              "    </tr>\n",
              "    <tr>\n",
              "      <th>2</th>\n",
              "      <td>4062</td>\n",
              "      <td>93</td>\n",
              "      <td>5</td>\n",
              "      <td>11</td>\n",
              "      <td>930511</td>\n",
              "      <td>-0.02</td>\n",
              "      <td>-109.96</td>\n",
              "      <td>-3.8</td>\n",
              "      <td>2.2</td>\n",
              "      <td>84.9</td>\n",
              "      <td>26.98</td>\n",
              "      <td>26.78</td>\n",
              "    </tr>\n",
              "    <tr>\n",
              "      <th>3</th>\n",
              "      <td>4063</td>\n",
              "      <td>93</td>\n",
              "      <td>5</td>\n",
              "      <td>12</td>\n",
              "      <td>930512</td>\n",
              "      <td>-0.02</td>\n",
              "      <td>-109.96</td>\n",
              "      <td>-3.0</td>\n",
              "      <td>1.5</td>\n",
              "      <td>86.9</td>\n",
              "      <td>26.93</td>\n",
              "      <td>26.74</td>\n",
              "    </tr>\n",
              "    <tr>\n",
              "      <th>4</th>\n",
              "      <td>4064</td>\n",
              "      <td>93</td>\n",
              "      <td>5</td>\n",
              "      <td>13</td>\n",
              "      <td>930513</td>\n",
              "      <td>-0.02</td>\n",
              "      <td>-109.96</td>\n",
              "      <td>-4.5</td>\n",
              "      <td>1.9</td>\n",
              "      <td>87.6</td>\n",
              "      <td>27.01</td>\n",
              "      <td>26.82</td>\n",
              "    </tr>\n",
              "  </tbody>\n",
              "</table>\n",
              "</div>"
            ],
            "text/plain": [
              "   Observation   Year   Month   Day    Date   Latitude   Longitude  \\\n",
              "0         4060     93       5     9  930509      -0.02     -109.96   \n",
              "1         4061     93       5    10  930510      -0.02     -109.96   \n",
              "2         4062     93       5    11  930511      -0.02     -109.96   \n",
              "3         4063     93       5    12  930512      -0.02     -109.96   \n",
              "4         4064     93       5    13  930513      -0.02     -109.96   \n",
              "\n",
              "    Zonal Winds   Meridional Winds   Humidity   Air Temp   Sea Surface Temp  \n",
              "0          -2.1                2.1       81.2      26.80              27.02  \n",
              "1          -3.4                1.4       84.2      26.95              26.91  \n",
              "2          -3.8                2.2       84.9      26.98              26.78  \n",
              "3          -3.0                1.5       86.9      26.93              26.74  \n",
              "4          -4.5                1.9       87.6      27.01              26.82  "
            ]
          },
          "execution_count": 2,
          "metadata": {},
          "output_type": "execute_result"
        }
      ],
      "source": [
        "df = pd.read_csv(\"EL Nino (5-D).csv\")         # Importing El- nino dataset\n",
        "df.head()"
      ]
    },
    {
      "cell_type": "code",
      "execution_count": null,
      "metadata": {
        "execution": {
          "iopub.execute_input": "2024-03-15T14:25:16.539240Z",
          "iopub.status.busy": "2024-03-15T14:25:16.538820Z",
          "iopub.status.idle": "2024-03-15T14:25:16.560835Z",
          "shell.execute_reply": "2024-03-15T14:25:16.559811Z",
          "shell.execute_reply.started": "2024-03-15T14:25:16.539202Z"
        },
        "id": "S4nxAlyp_oGN",
        "outputId": "96e3a20e-7ce7-454d-8cfc-4296600796fc"
      },
      "outputs": [
        {
          "data": {
            "text/html": [
              "<div>\n",
              "<style scoped>\n",
              "    .dataframe tbody tr th:only-of-type {\n",
              "        vertical-align: middle;\n",
              "    }\n",
              "\n",
              "    .dataframe tbody tr th {\n",
              "        vertical-align: top;\n",
              "    }\n",
              "\n",
              "    .dataframe thead th {\n",
              "        text-align: right;\n",
              "    }\n",
              "</style>\n",
              "<table border=\"1\" class=\"dataframe\">\n",
              "  <thead>\n",
              "    <tr style=\"text-align: right;\">\n",
              "      <th></th>\n",
              "      <th>Zonal Winds</th>\n",
              "      <th>Meridional Winds</th>\n",
              "      <th>Humidity</th>\n",
              "      <th>Air Temp</th>\n",
              "      <th>Sea Surface Temp</th>\n",
              "    </tr>\n",
              "  </thead>\n",
              "  <tbody>\n",
              "    <tr>\n",
              "      <th>0</th>\n",
              "      <td>-2.1</td>\n",
              "      <td>2.1</td>\n",
              "      <td>81.2</td>\n",
              "      <td>26.80</td>\n",
              "      <td>27.02</td>\n",
              "    </tr>\n",
              "    <tr>\n",
              "      <th>1</th>\n",
              "      <td>-3.4</td>\n",
              "      <td>1.4</td>\n",
              "      <td>84.2</td>\n",
              "      <td>26.95</td>\n",
              "      <td>26.91</td>\n",
              "    </tr>\n",
              "    <tr>\n",
              "      <th>2</th>\n",
              "      <td>-3.8</td>\n",
              "      <td>2.2</td>\n",
              "      <td>84.9</td>\n",
              "      <td>26.98</td>\n",
              "      <td>26.78</td>\n",
              "    </tr>\n",
              "    <tr>\n",
              "      <th>3</th>\n",
              "      <td>-3.0</td>\n",
              "      <td>1.5</td>\n",
              "      <td>86.9</td>\n",
              "      <td>26.93</td>\n",
              "      <td>26.74</td>\n",
              "    </tr>\n",
              "    <tr>\n",
              "      <th>4</th>\n",
              "      <td>-4.5</td>\n",
              "      <td>1.9</td>\n",
              "      <td>87.6</td>\n",
              "      <td>27.01</td>\n",
              "      <td>26.82</td>\n",
              "    </tr>\n",
              "  </tbody>\n",
              "</table>\n",
              "</div>"
            ],
            "text/plain": [
              "    Zonal Winds   Meridional Winds   Humidity   Air Temp   Sea Surface Temp\n",
              "0          -2.1                2.1       81.2      26.80              27.02\n",
              "1          -3.4                1.4       84.2      26.95              26.91\n",
              "2          -3.8                2.2       84.9      26.98              26.78\n",
              "3          -3.0                1.5       86.9      26.93              26.74\n",
              "4          -4.5                1.9       87.6      27.01              26.82"
            ]
          },
          "execution_count": 3,
          "metadata": {},
          "output_type": "execute_result"
        }
      ],
      "source": [
        "data = df.drop(df.columns[0:7],axis=1)            # Removing spatio-temporial attributes\n",
        "data.head()"
      ]
    },
    {
      "cell_type": "code",
      "execution_count": null,
      "metadata": {
        "execution": {
          "iopub.execute_input": "2024-03-15T14:25:16.563354Z",
          "iopub.status.busy": "2024-03-15T14:25:16.562653Z",
          "iopub.status.idle": "2024-03-15T14:25:16.586338Z",
          "shell.execute_reply": "2024-03-15T14:25:16.584960Z",
          "shell.execute_reply.started": "2024-03-15T14:25:16.563313Z"
        },
        "id": "SfGsRMVS_oGN",
        "outputId": "0decf6d3-3ff9-4e14-a0c1-91f44ee0f810"
      },
      "outputs": [
        {
          "data": {
            "text/html": [
              "<div>\n",
              "<style scoped>\n",
              "    .dataframe tbody tr th:only-of-type {\n",
              "        vertical-align: middle;\n",
              "    }\n",
              "\n",
              "    .dataframe tbody tr th {\n",
              "        vertical-align: top;\n",
              "    }\n",
              "\n",
              "    .dataframe thead th {\n",
              "        text-align: right;\n",
              "    }\n",
              "</style>\n",
              "<table border=\"1\" class=\"dataframe\">\n",
              "  <thead>\n",
              "    <tr style=\"text-align: right;\">\n",
              "      <th></th>\n",
              "      <th>Zonal Winds</th>\n",
              "      <th>Meridional Winds</th>\n",
              "      <th>Humidity</th>\n",
              "      <th>Air Temp</th>\n",
              "      <th>Sea Surface Temp</th>\n",
              "    </tr>\n",
              "  </thead>\n",
              "  <tbody>\n",
              "    <tr>\n",
              "      <th>0</th>\n",
              "      <td>-2.1</td>\n",
              "      <td>2.1</td>\n",
              "      <td>81.2</td>\n",
              "      <td>26.80</td>\n",
              "      <td>27.02</td>\n",
              "    </tr>\n",
              "    <tr>\n",
              "      <th>1</th>\n",
              "      <td>-3.4</td>\n",
              "      <td>1.4</td>\n",
              "      <td>84.2</td>\n",
              "      <td>26.95</td>\n",
              "      <td>26.91</td>\n",
              "    </tr>\n",
              "    <tr>\n",
              "      <th>2</th>\n",
              "      <td>-3.8</td>\n",
              "      <td>2.2</td>\n",
              "      <td>84.9</td>\n",
              "      <td>26.98</td>\n",
              "      <td>26.78</td>\n",
              "    </tr>\n",
              "    <tr>\n",
              "      <th>3</th>\n",
              "      <td>-3.0</td>\n",
              "      <td>1.5</td>\n",
              "      <td>86.9</td>\n",
              "      <td>26.93</td>\n",
              "      <td>26.74</td>\n",
              "    </tr>\n",
              "    <tr>\n",
              "      <th>4</th>\n",
              "      <td>-4.5</td>\n",
              "      <td>1.9</td>\n",
              "      <td>87.6</td>\n",
              "      <td>27.01</td>\n",
              "      <td>26.82</td>\n",
              "    </tr>\n",
              "    <tr>\n",
              "      <th>...</th>\n",
              "      <td>...</td>\n",
              "      <td>...</td>\n",
              "      <td>...</td>\n",
              "      <td>...</td>\n",
              "      <td>...</td>\n",
              "    </tr>\n",
              "    <tr>\n",
              "      <th>93930</th>\n",
              "      <td>-6.8</td>\n",
              "      <td>-5.3</td>\n",
              "      <td>81.3</td>\n",
              "      <td>27.52</td>\n",
              "      <td>28.17</td>\n",
              "    </tr>\n",
              "    <tr>\n",
              "      <th>93931</th>\n",
              "      <td>-5.1</td>\n",
              "      <td>-0.4</td>\n",
              "      <td>94.1</td>\n",
              "      <td>26.04</td>\n",
              "      <td>28.14</td>\n",
              "    </tr>\n",
              "    <tr>\n",
              "      <th>93932</th>\n",
              "      <td>-4.3</td>\n",
              "      <td>-3.3</td>\n",
              "      <td>93.2</td>\n",
              "      <td>25.80</td>\n",
              "      <td>27.87</td>\n",
              "    </tr>\n",
              "    <tr>\n",
              "      <th>93933</th>\n",
              "      <td>-6.1</td>\n",
              "      <td>-4.8</td>\n",
              "      <td>81.3</td>\n",
              "      <td>27.17</td>\n",
              "      <td>27.93</td>\n",
              "    </tr>\n",
              "    <tr>\n",
              "      <th>93934</th>\n",
              "      <td>-4.9</td>\n",
              "      <td>-2.3</td>\n",
              "      <td>76.2</td>\n",
              "      <td>27.36</td>\n",
              "      <td>28.03</td>\n",
              "    </tr>\n",
              "  </tbody>\n",
              "</table>\n",
              "<p>93935 rows × 5 columns</p>\n",
              "</div>"
            ],
            "text/plain": [
              "        Zonal Winds   Meridional Winds   Humidity   Air Temp  \\\n",
              "0              -2.1                2.1       81.2      26.80   \n",
              "1              -3.4                1.4       84.2      26.95   \n",
              "2              -3.8                2.2       84.9      26.98   \n",
              "3              -3.0                1.5       86.9      26.93   \n",
              "4              -4.5                1.9       87.6      27.01   \n",
              "...             ...                ...        ...        ...   \n",
              "93930          -6.8               -5.3       81.3      27.52   \n",
              "93931          -5.1               -0.4       94.1      26.04   \n",
              "93932          -4.3               -3.3       93.2      25.80   \n",
              "93933          -6.1               -4.8       81.3      27.17   \n",
              "93934          -4.9               -2.3       76.2      27.36   \n",
              "\n",
              "        Sea Surface Temp  \n",
              "0                  27.02  \n",
              "1                  26.91  \n",
              "2                  26.78  \n",
              "3                  26.74  \n",
              "4                  26.82  \n",
              "...                  ...  \n",
              "93930              28.17  \n",
              "93931              28.14  \n",
              "93932              27.87  \n",
              "93933              27.93  \n",
              "93934              28.03  \n",
              "\n",
              "[93935 rows x 5 columns]"
            ]
          },
          "execution_count": 4,
          "metadata": {},
          "output_type": "execute_result"
        }
      ],
      "source": [
        "data"
      ]
    },
    {
      "cell_type": "code",
      "execution_count": null,
      "metadata": {
        "execution": {
          "iopub.execute_input": "2024-03-15T14:25:16.588262Z",
          "iopub.status.busy": "2024-03-15T14:25:16.587837Z",
          "iopub.status.idle": "2024-03-15T14:25:16.634872Z",
          "shell.execute_reply": "2024-03-15T14:25:16.633635Z",
          "shell.execute_reply.started": "2024-03-15T14:25:16.588224Z"
        },
        "id": "H3joWAx__oGO",
        "outputId": "c084149d-705f-47a1-dbba-4de1fd0d9a48"
      },
      "outputs": [
        {
          "name": "stdout",
          "output_type": "stream",
          "text": [
            "(56, 5)\n",
            "(56, 5)\n",
            "(56, 5)\n"
          ]
        }
      ],
      "source": [
        "#Shuffling the dataset row-vise\n",
        "shuffled_data = data.sample(frac = 1, random_state = 42)      # frac = 1 means you want to sample the entire DataFrame\n",
        "\n",
        "# Reset the index if you want to reset the index after shuffling\n",
        "shuffled_data.reset_index(drop=True, inplace=True)\n",
        "\n",
        "# Total dataset S for later use\n",
        "S = shuffled_data.copy()\n",
        "\n",
        "shuffled_data.head()\n",
        "\n",
        "s1 = shuffled_data.sample(frac=0.000596, random_state=42)\n",
        "s1_complement = shuffled_data.drop(s1.index)\n",
        "\n",
        "s2 = s1_complement.sample(frac=0.000596, random_state=42)\n",
        "s1_s2_complement = s1_complement.drop(s2.index)\n",
        "\n",
        "sprime=s1_s2_complement.sample(frac=0.000596,random_state=42)\n",
        "\n",
        "s1.reset_index(drop = True, inplace = True)\n",
        "s2.reset_index(drop = True, inplace = True)\n",
        "sprime.reset_index(drop = True, inplace = True)\n",
        "\n",
        "print(s1.shape)\n",
        "print(s2.shape)\n",
        "print(sprime.shape)\n",
        "\n",
        "len_s1 = s1.shape[0]\n",
        "len_s2 = s2.shape[0]\n",
        "len_sprime = sprime.shape[0]\n",
        "\n",
        "s1_matrix = s1.to_numpy()\n",
        "s2_matrix = s2.to_numpy()\n",
        "sprime_matrix=sprime.to_numpy()"
      ]
    },
    {
      "cell_type": "markdown",
      "metadata": {
        "id": "EAO-Vvk6_oGR"
      },
      "source": [
        "$\\Huge{\\text{Required Functions for Algorithm}}$"
      ]
    },
    {
      "cell_type": "markdown",
      "metadata": {
        "id": "fnnoMn0UOI07"
      },
      "source": [
        "# $ \\textbf{Equation 5:} \\\\\n",
        "\\left\\{\\begin{array}{l}\n",
        "p\\left(x_{j} \\mid \\omega_{i}\\right)=\\frac{1}{(2 \\pi)^{k / 2}\\left|\\Sigma_{x_{i}}\\right|^{1 / 2}} \\exp \\left(-\\frac{1}{2}\\left(x_{j}-x_{i}\\right)^{T} \\Sigma_{x_{i}}^{-1}\\left(x_{j}-x_{i}\\right)\\right) \\\\\n",
        "p\\left(x_{i} \\mid \\omega_{i}\\right)=0, \\quad i, j=1,2, \\ldots\\left|S_{1}\\right|, i \\neq j \\\\\n",
        "\\quad i=1,2, \\ldots\\left|S_{1}\\right|\n",
        "\\end{array}\\right.\n",
        "$"
      ]
    },
    {
      "cell_type": "code",
      "execution_count": null,
      "metadata": {
        "execution": {
          "iopub.execute_input": "2024-03-15T14:25:16.646880Z",
          "iopub.status.busy": "2024-03-15T14:25:16.646424Z",
          "iopub.status.idle": "2024-03-15T14:25:16.656793Z",
          "shell.execute_reply": "2024-03-15T14:25:16.655609Z",
          "shell.execute_reply.started": "2024-03-15T14:25:16.646841Z"
        },
        "id": "UK_BvPeJ_oGT"
      },
      "outputs": [],
      "source": [
        "k = 5        # Dimensionality of s1\n",
        "\n",
        "def small_p(xi, xj, cov):\n",
        "\n",
        "    cov_1 = cov\n",
        "\n",
        "    det_cov = np.linalg.det(cov)\n",
        "    epsilon = 1e-2\n",
        "    det_cov = max(det_cov, epsilon)\n",
        "\n",
        "    if det_cov == 0.01:\n",
        "        alpha = 1e-2\n",
        "        cov_1 = cov_1 + alpha * np.identity(5)\n",
        "\n",
        "    a = 1 / (((2 * np.pi) ** (k / 2)) * det_cov ** 0.5)\n",
        "    b = -0.5 * ((xj - xi).T @ np.linalg.inv(cov_1) @ (xj - xi))\n",
        "\n",
        "    if b > 1000:\n",
        "        print('b value', b)\n",
        "    b = min(b, 50)\n",
        "    p = a * np.exp(b)\n",
        "\n",
        "    return p"
      ]
    },
    {
      "cell_type": "markdown",
      "metadata": {
        "id": "FSFkQxAn_oGU"
      },
      "source": [
        "# $ \\textbf{Equation 4:} \\\\\n",
        "\\begin{cases}P\\left(\\omega_{i} \\mid x_{j}\\right)=\\frac{p\\left(x_{j} \\mid \\omega_{i}\\right)}{\\sum_{t=1}^{\\left|S_{1}\\right|} p\\left(x_{j} \\mid \\omega_{t}\\right)} & i, j=1,2, \\ldots\\left|S_{1}\\right|, i \\neq j \\\\ P\\left(\\omega_{i} \\mid x_{i}\\right)=0 & i=1,2, \\ldots\\left|S_{1}\\right|\\end{cases}\n",
        "$"
      ]
    },
    {
      "cell_type": "code",
      "execution_count": null,
      "metadata": {
        "execution": {
          "iopub.execute_input": "2024-03-15T14:25:16.658927Z",
          "iopub.status.busy": "2024-03-15T14:25:16.658141Z",
          "iopub.status.idle": "2024-03-15T14:25:16.667678Z",
          "shell.execute_reply": "2024-03-15T14:25:16.666817Z",
          "shell.execute_reply.started": "2024-03-15T14:25:16.658892Z"
        },
        "id": "fXKrXZBN_oGU"
      },
      "outputs": [],
      "source": [
        "def capital_p(i, j, cov_mat):\n",
        "    summation = 0\n",
        "    xi = s1_matrix[i, :].reshape(-1, 1)\n",
        "    xj = s1_matrix[j, :].reshape(-1, 1)\n",
        "\n",
        "    for k in range(len_s1):\n",
        "        if k != j:\n",
        "            xk = s1_matrix[k, :].reshape(-1, 1)\n",
        "            summation += small_p(xk,xj, cov_mat[k])\n",
        "\n",
        "    # Avoid division by zero\n",
        "    summation = np.clip(summation,1e-4,np.inf)\n",
        "    P = small_p(xi,xj,cov_mat[i]) / summation\n",
        "\n",
        "    return  P"
      ]
    },
    {
      "cell_type": "markdown",
      "metadata": {
        "id": "cMnNs_N_OI09"
      },
      "source": [
        "# $ \\textbf{Equation 3:} \\\\\n",
        "\\Sigma_{x_{i}}=\\frac{\\sum_{x_{j} \\in S_{1}} P\\left(\\omega_{i} \\mid x_{j}\\right)\\left(x_{j}-x_{i}\\right)\\left(x_{j}-x_{i}\\right)^{T}}{\\sum_{x_{j} \\in S_{1}} P\\left(\\omega_{i} \\mid x_{j}\\right)}\n",
        "$"
      ]
    },
    {
      "cell_type": "code",
      "execution_count": null,
      "metadata": {
        "execution": {
          "iopub.execute_input": "2024-03-15T14:25:16.671719Z",
          "iopub.status.busy": "2024-03-15T14:25:16.671053Z",
          "iopub.status.idle": "2024-03-15T14:25:16.680958Z",
          "shell.execute_reply": "2024-03-15T14:25:16.679829Z",
          "shell.execute_reply.started": "2024-03-15T14:25:16.671684Z"
        },
        "id": "I2ksY54O_oGU"
      },
      "outputs": [],
      "source": [
        "def cov_xi(i,cov_mat):\n",
        "    denominator = 0\n",
        "    numerator = 0\n",
        "\n",
        "    xi = s1_matrix[i, :].reshape(-1, 1)\n",
        "    for j in range(len_s1):\n",
        "        if i!=j:\n",
        "            xj = s1_matrix[j, :].reshape(-1, 1)\n",
        "\n",
        "            P = capital_p(i, j, cov_mat)\n",
        "\n",
        "            denominator += P\n",
        "            numerator += P * ((xj - xi) @ (xj - xi).T)\n",
        "\n",
        "    return numerator / denominator"
      ]
    },
    {
      "cell_type": "code",
      "execution_count": null,
      "metadata": {
        "id": "MPQaY-_y_oGV"
      },
      "outputs": [],
      "source": [
        "def L(cov_mat):\n",
        "    L_new = 0\n",
        "    for j in range(len_s1):\n",
        "        xj = s1_matrix[j, :].reshape(-1, 1)\n",
        "        summation = 0\n",
        "        for i in range(len_s1):\n",
        "            if i!=j:\n",
        "                xi = s1_matrix[i, :].reshape(-1, 1)\n",
        "                summation+=small_p(xi,xj,cov_mat[i])\n",
        "\n",
        "        summation=summation/(len_s1-1)\n",
        "        L_new+=np.log(summation)\n",
        "\n",
        "    return L_new[0][0]"
      ]
    },
    {
      "cell_type": "markdown",
      "metadata": {
        "id": "ukDj6h93OI0-"
      },
      "source": [
        "# $ \\textbf{Equation 2:}$\n",
        "$ \\ L=\\sum_{x_{j} \\in S_{1}} \\log \\left[\\sum_{x_{i} \\in S_{1} \\wedge i \\neq j} \\frac{1}{\\left|S_{1}\\right|-1} G\\left(\\Sigma_{x_{i}}, x_{j}-x_{i}\\right)\\right]\n",
        "$"
      ]
    },
    {
      "cell_type": "markdown",
      "metadata": {
        "id": "1j2jM1jIOI0-"
      },
      "source": [
        "$\\Huge{\\text{Algorithm 1}}$"
      ]
    },
    {
      "cell_type": "code",
      "execution_count": null,
      "metadata": {
        "id": "D0tAhNMu_oGS"
      },
      "outputs": [],
      "source": [
        "# Initial guess\n",
        "\n",
        "cov_mat = []\n",
        "\n",
        "for i in range(len_s1):\n",
        "    xi = s1_matrix[i, :].reshape(-1, 1)\n",
        "    mat = 0\n",
        "    for j in range(len_s1):\n",
        "        xj = s1_matrix[j, :].reshape(-1, 1)\n",
        "        mat += (xj-xi) @ (xj-xi).T\n",
        "\n",
        "    cov_mat.append(mat/(len_s1-1))"
      ]
    },
    {
      "cell_type": "code",
      "execution_count": null,
      "metadata": {
        "id": "-xJfXtha_oGW",
        "outputId": "c059a3cb-b5ee-4dd8-dffc-bf5723c41149"
      },
      "outputs": [
        {
          "name": "stdout",
          "output_type": "stream",
          "text": [
            "L_prev= -250\n",
            "L_new= -599.1623016577415\n",
            "t= 0\n",
            "--------------------------------------------------\n",
            "L_prev= -599.1623016577415\n",
            "L_new= -579.3466089904226\n",
            "t= 1\n",
            "--------------------------------------------------\n",
            "L_prev= -579.3466089904226\n",
            "L_new= -552.9270483785061\n",
            "t= 2\n",
            "--------------------------------------------------\n",
            "L_prev= -552.9270483785061\n",
            "L_new= -512.9229743436242\n",
            "t= 3\n",
            "--------------------------------------------------\n",
            "L_prev= -512.9229743436242\n",
            "L_new= -460.45778011123275\n",
            "t= 4\n",
            "--------------------------------------------------\n",
            "L_prev= -460.45778011123275\n",
            "L_new= -415.12455318612183\n",
            "t= 5\n",
            "--------------------------------------------------\n",
            "L_prev= -415.12455318612183\n",
            "L_new= -393.6483069484127\n",
            "t= 6\n",
            "--------------------------------------------------\n",
            "L_prev= -393.6483069484127\n",
            "L_new= -382.66824462109906\n",
            "t= 7\n",
            "--------------------------------------------------\n",
            "L_prev= -382.66824462109906\n",
            "L_new= -379.86632270412395\n",
            "t= 8\n",
            "--------------------------------------------------\n"
          ]
        }
      ],
      "source": [
        "t = 0\n",
        "phi = 0.01\n",
        "L_prev = -250\n",
        "\n",
        "while t < 100:\n",
        "\n",
        "    temp = []\n",
        "\n",
        "    for i in range(len_s1):\n",
        "        temp.append(cov_xi(i,cov_mat))\n",
        "\n",
        "    cov_mat = temp.copy()\n",
        "\n",
        "    for i in range(len_s1):\n",
        "        if np.linalg.det(cov_mat[i]) <= 0:\n",
        "            alpha = 1e-2\n",
        "            cov_mat[i] = cov_mat[i] + alpha * np.identity(5)\n",
        "\n",
        "    L_new = L(cov_mat)\n",
        "\n",
        "    print('L_prev=',L_prev)\n",
        "    print('L_new=',L_new)\n",
        "    print('t=',t)\n",
        "    print('-'*50)\n",
        "\n",
        "    if abs((L_new-L_prev)/L_prev) < phi:\n",
        "        break\n",
        "\n",
        "    else:\n",
        "        L_prev=L_new\n",
        "        t+=1"
      ]
    },
    {
      "cell_type": "markdown",
      "metadata": {
        "id": "ibOuN8s-OI0-"
      },
      "source": [
        "$\\Huge{\\text{Algorithm 2}}$"
      ]
    },
    {
      "cell_type": "code",
      "execution_count": null,
      "metadata": {
        "id": "L0Dv4CLo_oGX"
      },
      "outputs": [],
      "source": [
        "def F(T):\n",
        "    s = 0\n",
        "    for i in range(len_s1):\n",
        "        xi = s1_matrix[i, :].reshape(-1, 1)\n",
        "        s += small_p(xi,T,cov_mat[i])\n",
        "    f = np.log(s/len_s1)\n",
        "    return f\n",
        "\n",
        "def EstVar(estsize,beta):\n",
        "    Est = []\n",
        "    for t in range(1,estsize):\n",
        "        R = s2.sample(n=len(s2), replace=True, random_state=42)\n",
        "        R = R.to_numpy()\n",
        "        F_R = []\n",
        "        for i in range(len_s2):\n",
        "            T = R[i, :].reshape(-1, 1)\n",
        "            F_R.append(F(T))\n",
        "\n",
        "        var_F_R = np.var(np.array(F_R))\n",
        "        Est.append((len_s2/(len_s2-1))*var_F_R)\n",
        "\n",
        "    V =  np.percentile(Est, estsize*(1 - beta))\n",
        "    var_delta = (len_sprime + ((len_sprime**2) / len_s2))*V\n",
        "    return var_delta"
      ]
    },
    {
      "cell_type": "markdown",
      "metadata": {
        "id": "7zY6c0NROI0_"
      },
      "source": [
        "$\\Huge{\\text{Algorithm 3}}$"
      ]
    },
    {
      "cell_type": "code",
      "execution_count": null,
      "metadata": {
        "id": "puCeRyKO_oGX"
      },
      "outputs": [],
      "source": [
        "from scipy.stats import norm\n",
        "\n",
        "def critical_value(p,stepsize):\n",
        "    estsize = 100\n",
        "    M = int(np.ceil((p/stepsize)-1))\n",
        "    C = []\n",
        "    for i in range(1, M+1):\n",
        "        alpha_i = i*stepsize\n",
        "        beta_i = p-alpha_i\n",
        "        var_delta = EstVar(estsize,beta_i)\n",
        "\n",
        "        mean = 0\n",
        "\n",
        "        std_dev = np.sqrt(var_delta)\n",
        "        c = norm.ppf(alpha_i, loc = mean, scale = std_dev)\n",
        "        C.append(c)\n",
        "\n",
        "    C_max = max(C)\n",
        "\n",
        "    return C_max"
      ]
    },
    {
      "cell_type": "markdown",
      "metadata": {
        "id": "nwOBpRJROI0_"
      },
      "source": [
        "# $\\textbf{Equation 7:}$\n",
        " $\n",
        "\\begin{aligned}\n",
        "\\delta= & \\operatorname{LLH}\\left(\\mathscr{K}_{S_{1}}, S^{\\prime}\\right)-\\frac{\\left|S^{\\prime}\\right|}{\\left|S_{2}\\right|} \\times \\operatorname{LLH}\\left(\\mathscr{K}_{S_{1}}, S_{2}\\right) \\\\\n",
        "= & \\log \\left\\{\\prod_{y \\in S^{\\prime}} \\mathscr{K}_{S_{1}}(y)\\right\\}-\\frac{\\left|S^{\\prime}\\right|}{\\left|S_{2}\\right|} \\times \\log \\left\\{\\prod_{y \\in S_{2}} \\mathscr{K}_{S_{1}}(y)\\right\\} \\\\\n",
        "= & \\sum_{y \\in S^{\\prime}} \\log \\sum_{x \\in S_{1}} \\frac{1}{\\left|S_{1}\\right|} G\\left(\\Sigma_{x}, y-x\\right) -\\sum_{y \\in S_{2}} \\frac{\\left|S^{\\prime}\\right|}{\\left|S_{2}\\right|} \\times \\log \\left\\{\\sum_{x \\in S_{1}} \\frac{1}{\\left|S_{1}\\right|} G\\left(\\Sigma_{x}, y-x\\right)\\right\\}\n",
        "\\end{aligned}\n",
        "$"
      ]
    },
    {
      "cell_type": "code",
      "execution_count": null,
      "metadata": {
        "id": "EYzdCiCW_oGY"
      },
      "outputs": [],
      "source": [
        "def delta():\n",
        "\n",
        "    a = 0\n",
        "\n",
        "    for j in range(len_sprime):\n",
        "        y = sprime_matrix[j, :].reshape(-1, 1)\n",
        "        summation = 0\n",
        "\n",
        "        for i in range(len_s1):\n",
        "            x = s1_matrix[i, :].reshape(-1, 1)\n",
        "            summation += small_p(x,y,cov_mat[i])\n",
        "\n",
        "        summation=np.clip(summation,1e-4,np.inf)\n",
        "        a += np.log(summation/len_s1)\n",
        "\n",
        "    b = 0\n",
        "\n",
        "    for j in range(len_s2):\n",
        "        y = s2_matrix[j, :].reshape(-1, 1)\n",
        "        summation = 0\n",
        "\n",
        "        for i in range(len_s1):\n",
        "            x = s1_matrix[i, :].reshape(-1, 1)\n",
        "            summation += small_p(x,y,cov_mat[i])\n",
        "\n",
        "        b += (np.log(summation/len_s1))*len_sprime/len_s2\n",
        "\n",
        "    delta = b-a\n",
        "\n",
        "    return delta[0][0]"
      ]
    },
    {
      "cell_type": "markdown",
      "metadata": {
        "id": "eJv4cjujOI0_"
      },
      "source": [
        "$\\Huge{\\text{Experiment 2}}$"
      ]
    },
    {
      "cell_type": "markdown",
      "metadata": {
        "id": "K8WQzt3wOI0_"
      },
      "source": [
        "$\\text{We have run the test for 10 instances for the 3 noise types(gaussian 5-d, add 1-d, scale 1-d) because of the high time complexity.}$\n",
        "$\\text{Still we are getting expected results}$"
      ]
    },
    {
      "cell_type": "markdown",
      "metadata": {
        "id": "4zzw0mLOOI1A"
      },
      "source": [
        "$\\Large{\\text{Full Dimensional Changes:}}$\n",
        "\n",
        "$\\text{We have S1, S2 and S' are samples from same distributions: FS.}$\n",
        "$\\text{S' is intentionally made different from FS to simulate a scenario where there's been a distributional change.}$\n",
        "\n",
        "$\\text{To simulating distributional change involves creating S' as a mixture of the original distribution FS}$\n",
        "$\\text{and another distribution FC}$\n",
        "\n",
        "$\\text{S' is obtained by sampling from the original data set and adding Gaussian noise in some points to all dimensions.}$\n",
        "$\\text{This essentially perturbs the original data with Gaussian noise.}$"
      ]
    },
    {
      "cell_type": "code",
      "execution_count": null,
      "metadata": {
        "id": "GWfvurSoOI1A"
      },
      "outputs": [],
      "source": [
        "means = np.mean(sprime_matrix , axis = 0)\n",
        "stds = np.std(sprime_matrix , axis = 0)"
      ]
    },
    {
      "cell_type": "code",
      "execution_count": null,
      "metadata": {
        "scrolled": false,
        "id": "3QLy_OqrOI1A",
        "outputId": "677c1cbf-b40f-41b0-9d0a-2d84bff6f059"
      },
      "outputs": [
        {
          "name": "stdout",
          "output_type": "stream",
          "text": [
            "instance: 1 /10\n",
            "THERE IS CHANGE. DISTRIBUTION OF S PRIME IS DIFFERENT THAN DISTRIBUTION OF S \n",
            "fn: 0\n",
            "--------------------------------------------------------------------------------\n",
            "instance: 2 /10\n",
            "THERE IS CHANGE. DISTRIBUTION OF S PRIME IS DIFFERENT THAN DISTRIBUTION OF S \n",
            "fn: 0\n",
            "--------------------------------------------------------------------------------\n",
            "instance: 3 /10\n",
            "THERE IS CHANGE. DISTRIBUTION OF S PRIME IS DIFFERENT THAN DISTRIBUTION OF S \n",
            "fn: 0\n",
            "--------------------------------------------------------------------------------\n",
            "instance: 4 /10\n",
            "THERE IS CHANGE. DISTRIBUTION OF S PRIME IS DIFFERENT THAN DISTRIBUTION OF S \n",
            "fn: 0\n",
            "--------------------------------------------------------------------------------\n",
            "instance: 5 /10\n",
            "THERE IS CHANGE. DISTRIBUTION OF S PRIME IS DIFFERENT THAN DISTRIBUTION OF S \n",
            "fn: 0\n",
            "--------------------------------------------------------------------------------\n",
            "instance: 6 /10\n",
            "THERE IS CHANGE. DISTRIBUTION OF S PRIME IS DIFFERENT THAN DISTRIBUTION OF S \n",
            "fn: 0\n",
            "--------------------------------------------------------------------------------\n",
            "instance: 7 /10\n",
            "THERE IS CHANGE. DISTRIBUTION OF S PRIME IS DIFFERENT THAN DISTRIBUTION OF S \n",
            "fn: 0\n",
            "--------------------------------------------------------------------------------\n",
            "instance: 8 /10\n",
            "THERE IS CHANGE. DISTRIBUTION OF S PRIME IS DIFFERENT THAN DISTRIBUTION OF S \n",
            "fn: 0\n",
            "--------------------------------------------------------------------------------\n",
            "instance: 9 /10\n",
            "THERE IS CHANGE. DISTRIBUTION OF S PRIME IS DIFFERENT THAN DISTRIBUTION OF S \n",
            "fn: 0\n",
            "--------------------------------------------------------------------------------\n",
            "instance: 10 /10\n",
            "THERE IS CHANGE. DISTRIBUTION OF S PRIME IS DIFFERENT THAN DISTRIBUTION OF S \n",
            "fn: 0\n",
            "--------------------------------------------------------------------------------\n",
            "False negative rate: 0.0\n"
          ]
        }
      ],
      "source": [
        "# generate sprime matrix 10 instances\n",
        "\n",
        "fn = 0\n",
        "\n",
        "for inst in range(10):\n",
        "    print('instance:',inst+1,'/10')\n",
        "    sprime_instance = data.sample(frac = 0.000596, replace = True, random_state = 42)\n",
        "    sprime_matrix = sprime_instance.to_numpy()\n",
        "\n",
        "    noise_matrix = np.zeros((12,5))   # We take noise\n",
        "\n",
        "    for i in range(12):\n",
        "        for j in range(5):\n",
        "            noise_matrix[i,j] = np.random.normal(loc = means[j] , scale = stds[j])\n",
        "\n",
        "    index = np.random.randint(0, 56, size = 12)\n",
        "\n",
        "    for i in range(12):\n",
        "        sprime_matrix[index[i]] = noise_matrix[i]          #Adding gaussian noise\n",
        "\n",
        "    p = 0.08\n",
        "    stepsize = 0.002\n",
        "\n",
        "    Delta = delta()\n",
        "\n",
        "    C_max = critical_value(p, stepsize)\n",
        "\n",
        "    if Delta < C_max:\n",
        "        print('THERE IS CHANGE. DISTRIBUTION OF S PRIME IS DIFFERENT THAN DISTRIBUTION OF S ')\n",
        "\n",
        "    else:\n",
        "        fn += 1\n",
        "        print('THERE IS NO CHANGE. DISTRIBUTION OF S PRIME IS SAME AS DISTRIBUTION OF S ')\n",
        "\n",
        "    print('fn:',fn)\n",
        "    print('-'*80)\n",
        "\n",
        "print('False negative rate:', fn/10)"
      ]
    },
    {
      "cell_type": "markdown",
      "metadata": {
        "id": "m-ro_HVCOI1A"
      },
      "source": [
        "$\\text{Expected result: 0.}$\n",
        "\n",
        "$\\text{Obtained result: 0.}$"
      ]
    },
    {
      "cell_type": "markdown",
      "metadata": {
        "id": "cOQvkFDnOI1A"
      },
      "source": [
        "$\\Large{\\text{Single Dimensional Changes:}}$\n",
        "\n",
        "$\\text{S' is created by adding a standard 1-D Gaussian variable to a single randomly-chosen dimension of the original data set.}$\n",
        "\n",
        "$\\text{in each instance. then we checked whether the distribution is changed or not.}$"
      ]
    },
    {
      "cell_type": "code",
      "execution_count": null,
      "metadata": {
        "id": "p7VGOscNOI1A",
        "outputId": "b7c4dfa6-5cdd-4b8e-80e4-df74870d9aa3"
      },
      "outputs": [
        {
          "name": "stdout",
          "output_type": "stream",
          "text": [
            "instance: 1 /10\n",
            "THERE IS CHANGE. DISTRIBUTION OF S PRIME IS DIFFERENT THAN DISTRIBUTION OF S \n",
            "fn: 0\n",
            "instance: 2 /10\n",
            "THERE IS CHANGE. DISTRIBUTION OF S PRIME IS DIFFERENT THAN DISTRIBUTION OF S \n",
            "fn: 0\n",
            "instance: 3 /10\n",
            "THERE IS CHANGE. DISTRIBUTION OF S PRIME IS DIFFERENT THAN DISTRIBUTION OF S \n",
            "fn: 0\n",
            "instance: 4 /10\n",
            "THERE IS CHANGE. DISTRIBUTION OF S PRIME IS DIFFERENT THAN DISTRIBUTION OF S \n",
            "fn: 0\n",
            "instance: 5 /10\n",
            "THERE IS CHANGE. DISTRIBUTION OF S PRIME IS DIFFERENT THAN DISTRIBUTION OF S \n",
            "fn: 0\n",
            "instance: 6 /10\n",
            "THERE IS CHANGE. DISTRIBUTION OF S PRIME IS DIFFERENT THAN DISTRIBUTION OF S \n",
            "fn: 0\n",
            "instance: 7 /10\n",
            "THERE IS CHANGE. DISTRIBUTION OF S PRIME IS DIFFERENT THAN DISTRIBUTION OF S \n",
            "fn: 0\n",
            "instance: 8 /10\n",
            "THERE IS CHANGE. DISTRIBUTION OF S PRIME IS DIFFERENT THAN DISTRIBUTION OF S \n",
            "fn: 0\n",
            "instance: 9 /10\n",
            "THERE IS CHANGE. DISTRIBUTION OF S PRIME IS DIFFERENT THAN DISTRIBUTION OF S \n",
            "fn: 0\n",
            "instance: 10 /10\n",
            "THERE IS CHANGE. DISTRIBUTION OF S PRIME IS DIFFERENT THAN DISTRIBUTION OF S \n",
            "fn: 0\n",
            "False negative rate: 0\n"
          ]
        }
      ],
      "source": [
        "# Add 1d\n",
        "\n",
        "fn = 0\n",
        "\n",
        "for i in range(10):\n",
        "    print('instance:',i+1,'/10')\n",
        "    sprime_instance = data.sample(frac = 0.000596, replace = True, random_state = 42)\n",
        "    sprime_matrix = sprime_instance.to_numpy()\n",
        "\n",
        "    k = np.random.choice([0,1,2,3,4])\n",
        "    for j in range(len_sprime):\n",
        "        sprime_matrix[j,k] = np.random.normal(loc=0.0, scale=1.0)    # Standard Gaussian\n",
        "\n",
        "    # Change detection\n",
        "\n",
        "    p = 0.08\n",
        "    stepsize = 0.002\n",
        "\n",
        "    Delta = delta()\n",
        "    C_max = critical_value(p,stepsize)\n",
        "\n",
        "    if Delta < C_max:\n",
        "        print('THERE IS CHANGE. DISTRIBUTION OF S PRIME IS DIFFERENT THAN DISTRIBUTION OF S ')\n",
        "\n",
        "    else:\n",
        "        fn += 1\n",
        "        print('THERE IS NO CHANGE. DISTRIBUTION OF S PRIME IS SAME AS DISTRIBUTION OF S ')\n",
        "\n",
        "    print('fn:',fn)\n",
        "\n",
        "print('False negative rate:',fn)"
      ]
    },
    {
      "cell_type": "markdown",
      "metadata": {
        "id": "l3BFFJUsOI1B"
      },
      "source": [
        "$\\text{Expected result: 0.}$\n",
        "\n",
        "$\\text{Obtained result: 0.}$"
      ]
    },
    {
      "cell_type": "markdown",
      "metadata": {
        "id": "PIOMC-umOI1B"
      },
      "source": [
        "$\\Large{\\text{Scaling Single Dimensional Changes:}}$\n",
        "\n",
        "$\\text{S' is created by the value of the randomly-selected dimension is multiplied by two.}$\n",
        "\n",
        "$\\text{in each instance. then we checked whether the distribution is changed or not.}$"
      ]
    },
    {
      "cell_type": "code",
      "execution_count": null,
      "metadata": {
        "id": "XcaO8CTQOI1B",
        "outputId": "65395701-d800-4374-966b-cf07d858e859"
      },
      "outputs": [
        {
          "name": "stdout",
          "output_type": "stream",
          "text": [
            "instance: 1 /10\n",
            "-284.6452082405158 -195.5775291196766\n",
            "THERE IS CHANGE. DISTRIBUTION OF S PRIME IS DIFFERENT THAN DISTRIBUTION OF S \n",
            "fn: 0\n",
            "instance: 2 /10\n",
            "-338.347899114743 -195.57752911967665\n",
            "THERE IS CHANGE. DISTRIBUTION OF S PRIME IS DIFFERENT THAN DISTRIBUTION OF S \n",
            "fn: 0\n",
            "instance: 3 /10\n",
            "-316.8983095289085 -195.5775291196766\n",
            "THERE IS CHANGE. DISTRIBUTION OF S PRIME IS DIFFERENT THAN DISTRIBUTION OF S \n",
            "fn: 0\n",
            "instance: 4 /10\n",
            "-419.8194252478321 -195.57752911967665\n",
            "THERE IS CHANGE. DISTRIBUTION OF S PRIME IS DIFFERENT THAN DISTRIBUTION OF S \n",
            "fn: 0\n",
            "instance: 5 /10\n",
            "-419.8194252478321 -195.57752911967665\n",
            "THERE IS CHANGE. DISTRIBUTION OF S PRIME IS DIFFERENT THAN DISTRIBUTION OF S \n",
            "fn: 0\n",
            "instance: 6 /10\n",
            "-419.8194252478321 -195.57752911967665\n",
            "THERE IS CHANGE. DISTRIBUTION OF S PRIME IS DIFFERENT THAN DISTRIBUTION OF S \n",
            "fn: 0\n",
            "instance: 7 /10\n",
            "-284.6452082405158 -195.5775291196766\n",
            "THERE IS CHANGE. DISTRIBUTION OF S PRIME IS DIFFERENT THAN DISTRIBUTION OF S \n",
            "fn: 0\n",
            "instance: 8 /10\n",
            "-338.347899114743 -195.57752911967665\n",
            "THERE IS CHANGE. DISTRIBUTION OF S PRIME IS DIFFERENT THAN DISTRIBUTION OF S \n",
            "fn: 0\n",
            "instance: 9 /10\n",
            "-419.8194252478321 -195.57752911967665\n",
            "THERE IS CHANGE. DISTRIBUTION OF S PRIME IS DIFFERENT THAN DISTRIBUTION OF S \n",
            "fn: 0\n",
            "instance: 10 /10\n",
            "-316.8983095289085 -195.5775291196766\n",
            "THERE IS CHANGE. DISTRIBUTION OF S PRIME IS DIFFERENT THAN DISTRIBUTION OF S \n",
            "fn: 0\n",
            "False negative rate: 0\n"
          ]
        }
      ],
      "source": [
        "#scale 1 d\n",
        "\n",
        "fn = 0\n",
        "\n",
        "for i in range(10):\n",
        "    print('instance:',i+1,'/10')\n",
        "    sprime_instance = data.sample(frac = 0.000596, replace = True, random_state = 42)\n",
        "    sprime_matrix = sprime_instance.to_numpy()\n",
        "    k = np.random.choice([0,1,2,3,4])\n",
        "\n",
        "    for j in range(len_sprime):\n",
        "        sprime_matrix[j,k] = sprime_matrix[j,k]*2\n",
        "\n",
        "    # Change detection\n",
        "    p = 0.08\n",
        "    stepsize = 0.002\n",
        "\n",
        "    Delta = delta()\n",
        "    C_max = critical_value(p,stepsize)\n",
        "    print(Delta,C_max)\n",
        "    if Delta < C_max:\n",
        "        print('THERE IS CHANGE. DISTRIBUTION OF S PRIME IS DIFFERENT THAN DISTRIBUTION OF S ')\n",
        "\n",
        "    else:\n",
        "        fn += 1\n",
        "        print('THERE IS NO CHANGE. DISTRIBUTION OF S PRIME IS SAME AS DISTRIBUTION OF S ')\n",
        "\n",
        "    print('fn:',fn)\n",
        "\n",
        "print('False negative rate:',fn)"
      ]
    },
    {
      "cell_type": "markdown",
      "metadata": {
        "id": "TueO9fd4OI1B"
      },
      "source": [
        "$\\text{Expected result: 0.}$\n",
        "\n",
        "$\\text{Obtained result: 0.}$"
      ]
    }
  ],
  "metadata": {
    "colab": {
      "provenance": []
    },
    "kaggle": {
      "accelerator": "none",
      "dataSources": [
        {
          "datasetId": 4602382,
          "sourceId": 7848655,
          "sourceType": "datasetVersion"
        }
      ],
      "dockerImageVersionId": 30664,
      "isGpuEnabled": false,
      "isInternetEnabled": false,
      "language": "python",
      "sourceType": "notebook"
    },
    "kernelspec": {
      "display_name": "Python 3",
      "language": "python",
      "name": "python3"
    },
    "language_info": {
      "codemirror_mode": {
        "name": "ipython",
        "version": 3
      },
      "file_extension": ".py",
      "mimetype": "text/x-python",
      "name": "python",
      "nbconvert_exporter": "python",
      "pygments_lexer": "ipython3",
      "version": "3.9.2"
    }
  },
  "nbformat": 4,
  "nbformat_minor": 0
}